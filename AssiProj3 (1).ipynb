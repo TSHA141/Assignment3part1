{
 "cells": [
  {
   "cell_type": "markdown",
   "id": "f9de7f82-5c48-4d1a-9d8d-e2d2a164c33a",
   "metadata": {},
   "source": [
    "We will load our dataset into the Pandas dataframe\n"
   ]
  },
  {
   "cell_type": "code",
   "execution_count": null,
   "id": "9b6aedc0-5df2-4c55-9c6f-e8b960fd896f",
   "metadata": {},
   "outputs": [],
   "source": [
    "import pandas as pd\n",
    "\n",
    "df_pd.read_csv('https://github.com/TSHA141/Assing3part1/blob/main/dataset.csv')\n",
    "\n",
    "#Display the first few rows of the DataFrame to understand its structur\n",
    "df.head()\n",
    "               "
   ]
  },
  {
   "cell_type": "markdown",
   "id": "9b645ad2-cd05-4f2e-b29a-2b4840f48232",
   "metadata": {},
   "source": [
    "Let us import all the neccessary libraries"
   ]
  },
  {
   "cell_type": "code",
   "execution_count": null,
   "id": "f5ca6ad8-0203-42ca-af82-186eda9f4bf5",
   "metadata": {},
   "outputs": [],
   "source": [
    "import matplot;ib.pyplot as plt\n",
    "import seaborn as sns"
   ]
  },
  {
   "cell_type": "markdown",
   "id": "88355f86-84fc-4725-9a7e-fcbc032e59bf",
   "metadata": {},
   "source": [
    "We will cfreate various plots/graphs for us to visually have a feel for the dataset"
   ]
  },
  {
   "cell_type": "code",
   "execution_count": null,
   "id": "49ca481a-a92a-4112-b977-e32b96218151",
   "metadata": {},
   "outputs": [],
   "source": [
    "plt.hist(df['Number of Casualties'], bins=20,colour='skyblue',edgecolour='black')\n",
    "plt.xlabel('Number of Persons deaceased')\n",
    "plt.ylabel('Frequency')\n",
    "plt.title('Distribution of Number of Persons Killed')\n",
    "plt.show()"
   ]
  },
  {
   "cell_type": "markdown",
   "id": "8dc56b78-5fb9-4a1c-a2a7-55ed54520309",
   "metadata": {},
   "source": [
    "We will showcase the relation between number of persons injured and number of persons killed with a scatterplot"
   ]
  },
  {
   "cell_type": "code",
   "execution_count": null,
   "id": "3f5f5591-8bd0-4d7f-b697-22e2f430cefc",
   "metadata": {},
   "outputs": [],
   "source": [
    "plt.scatter(df['Number of Casualties'],df['Number of Vehicles'])\n",
    "plt.xlabel('Number of Persons killed')\n",
    "plt.ylabel('Number of vehicles involved')\n",
    "plt.title('Relaionship between people killed and vehicles involved')\n",
    "plt.show()"
   ]
  },
  {
   "cell_type": "markdown",
   "id": "fbd48918-ff9a-4705-9e27-c209aae9fc4e",
   "metadata": {},
   "source": [
    "This will be a line chart to visually see a trend of the people injured over time"
   ]
  },
  {
   "cell_type": "code",
   "execution_count": null,
   "id": "250fbc96-9b62-4fec-9194-203a7e9512e1",
   "metadata": {},
   "outputs": [],
   "source": [
    "df['Accident Date']=pd.to_datetime(df['Accident Date'])#This will convert Date of crash column into datetime format\n",
    "plt.plot(df['DATE OF CRASH'],df['Number of Casualties'], marker='o', linestyle='-')\n",
    "plt.xlabel('Date')\n",
    "plt.ylabel('Number of Persons Killed')\n",
    "plt.title('Trend of Persons Killed Over Time')\n",
    "plt.xtricks(rotation=45)\n",
    "plt.tight_layout()\n",
    "plt.show()"
   ]
  },
  {
   "cell_type": "markdown",
   "id": "356647ab-9fd9-4c6d-a12e-aad06fa45338",
   "metadata": {},
   "source": [
    "Now we will test the correlation visually by using a heat map"
   ]
  },
  {
   "cell_type": "code",
   "execution_count": null,
   "id": "fbdea42c-a3db-40c0-a97e-de67a5fbf722",
   "metadata": {},
   "outputs": [],
   "source": [
    "correlation_matrix = df.corr()\n",
    "sns.heatmap(correlation_matrix, annot=True, cmap='coolwarm', fmt\".2f\")\n",
    "plt.title('Correlation Heatmap')\n",
    "plt.show()"
   ]
  }
 ],
 "metadata": {
  "kernelspec": {
   "display_name": "Python 3 (ipykernel)",
   "language": "python",
   "name": "python3"
  },
  "language_info": {
   "codemirror_mode": {
    "name": "ipython",
    "version": 3
   },
   "file_extension": ".py",
   "mimetype": "text/x-python",
   "name": "python",
   "nbconvert_exporter": "python",
   "pygments_lexer": "ipython3",
   "version": "3.11.7"
  }
 },
 "nbformat": 4,
 "nbformat_minor": 5
}
