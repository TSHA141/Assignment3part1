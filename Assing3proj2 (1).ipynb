{
 "cells": [
  {
   "cell_type": "markdown",
   "id": "56769611-00e3-4d61-8972-488cc49af282",
   "metadata": {},
   "source": [
    "We will import Pandas\n"
   ]
  },
  {
   "cell_type": "code",
   "execution_count": null,
   "id": "83cb3d9e-5ef1-4775-80d4-e07c95e82e40",
   "metadata": {},
   "outputs": [],
   "source": [
    "#Load the dataset into a Pandas Dataframe\n",
    "df = pd.read_csv(r\"https://github.com/TSHA141/Assing3part1/blob/main/dataset.csv\")\n",
    "\n",
    "#This will display the first few rows of the DataFrame\n",
    "print(df.head())"
   ]
  },
  {
   "cell_type": "markdown",
   "id": "15d635bd-5851-473e-b8b2-52cc346c502b",
   "metadata": {},
   "source": [
    "At this stage we are just going to have a feel for our data and see what it's about and view any missing values"
   ]
  },
  {
   "cell_type": "code",
   "execution_count": null,
   "id": "94831ebf-fe49-45dd-86ad-a0afacd25fe5",
   "metadata": {},
   "outputs": [],
   "source": [
    "#This will give us basic information about the dataset\n",
    "print(df.info())\n",
    "\n",
    "#This will give us summary statistics of the numerical columns\n",
    "print(df.describe())\n",
    "\n",
    "#This will tell us all the missing values\n",
    "print(df.isnull().sum()"
   ]
  },
  {
   "cell_type": "markdown",
   "id": "3eeebb2d-0403-498b-a34d-bb1ae17fdd47",
   "metadata": {},
   "source": [
    "Now we will just drop the rows with missing values"
   ]
  },
  {
   "cell_type": "code",
   "execution_count": null,
   "id": "66803fce-e498-4714-ac43-983aecdc2141",
   "metadata": {},
   "outputs": [],
   "source": [
    "df_cleaned = df.dropna()\n",
    "\n",
    "#Let us check for any more missing values\n",
    "print(df_cleaned.isnull().sum())"
   ]
  },
  {
   "cell_type": "markdown",
   "id": "b3c23981-b452-4f9d-991d-bed99c578f97",
   "metadata": {},
   "source": [
    "Now we will perform data type conversion of the CRASH DATE column"
   ]
  },
  {
   "cell_type": "code",
   "execution_count": null,
   "id": "53719004-6a9d-47a3-bb81-e0e7f5c3c5c9",
   "metadata": {},
   "outputs": [],
   "source": [
    "#Convert CRASHDATE column to datetime format\n",
    "df_cleaned['Accident Date'] = pd.to_datetime(df_cleaned['dATE'])\n",
    "\n",
    "#Let us check the data types of all columns\n",
    "print(df_cleaned.dtypes)"
   ]
  },
  {
   "cell_type": "markdown",
   "id": "b7929888-8d5f-432a-9414-661ddee24fe8",
   "metadata": {},
   "source": [
    "We will also just do some extra analysis like drop uneccessary columns or duplicate columns"
   ]
  },
  {
   "cell_type": "code",
   "execution_count": null,
   "id": "246a13dd-ccc7-40f6-8500-b4060114d89c",
   "metadata": {},
   "outputs": [],
   "source": [
    "#Remove duplicate columns\n",
    "df_cleaned = df_cleaned.drop_duplicates()\n",
    "\n",
    "#Filter out irrelevant columns for our particular analysis\n",
    "df_filtered = df_cleaned[['1st Road Class', 'Sex of Casualty', 'Type of Vehicle']]\n"
   ]
  }
 ],
 "metadata": {
  "kernelspec": {
   "display_name": "Python 3 (ipykernel)",
   "language": "python",
   "name": "python3"
  },
  "language_info": {
   "codemirror_mode": {
    "name": "ipython",
    "version": 3
   },
   "file_extension": ".py",
   "mimetype": "text/x-python",
   "name": "python",
   "nbconvert_exporter": "python",
   "pygments_lexer": "ipython3",
   "version": "3.11.7"
  }
 },
 "nbformat": 4,
 "nbformat_minor": 5
}
