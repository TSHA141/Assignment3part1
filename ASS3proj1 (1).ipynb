{
 "cells": [
  {
   "cell_type": "markdown",
   "id": "de966144-6b79-4277-99c9-5bdf007e35cd",
   "metadata": {},
   "source": [
    "We will import both Pandas and Numpy"
   ]
  },
  {
   "cell_type": "code",
   "execution_count": 1,
   "id": "6ab4fde9-ee3d-4100-822c-2dfca11e2784",
   "metadata": {},
   "outputs": [],
   "source": [
    "import pandas as pd\n",
    "import numpy as np"
   ]
  },
  {
   "cell_type": "markdown",
   "id": "3ab00435-4854-4619-b419-0b94aa82de8e",
   "metadata": {},
   "source": [
    "We load the dataset into a Pandas \n"
   ]
  },
  {
   "cell_type": "code",
   "execution_count": null,
   "id": "d41a7838-3355-4c27-9b09-9e5b3842a00b",
   "metadata": {
    "scrolled": true
   },
   "outputs": [],
   "source": [
    "df = pd.read.csv(r\"https://github.com/TSHA141/Assing3part1/blob/main/dataset.csv\")"
   ]
  },
  {
   "cell_type": "code",
   "execution_count": null,
   "id": "5e94326b-6e0f-43d8-8db3-b4603d9d6313",
   "metadata": {
    "scrolled": true
   },
   "outputs": [],
   "source": [
    "df.head()"
   ]
  },
  {
   "cell_type": "markdown",
   "id": "704cc237-dd98-42c0-b1bb-bc76842cad89",
   "metadata": {},
   "source": [
    "Now we will calculate the mean and median of 'number of people injured'"
   ]
  },
  {
   "cell_type": "code",
   "execution_count": null,
   "id": "f3fd8da0-6cb3-467d-9262-454bd072f530",
   "metadata": {
    "scrolled": true
   },
   "outputs": [],
   "source": [
    "mean_casualties = np.mean(df['Number of Casualties'])\n",
    "median_casualties = np.median(df['Number of Casualties'])\n",
    "\n",
    "print(\"Mean number of persons deceased:\", mean_casualties)\n",
    "print(\"Median number of persons deceased:\" , median_casualties)"
   ]
  },
  {
   "cell_type": "markdown",
   "id": "15d417b9-93a2-4d21-b471-499e5f5a41a2",
   "metadata": {},
   "source": [
    "Now we will calculate the standard deviation and correlation between NUMBER OF PERSONS INJURED and NUMBER OF PERSONS KILLED"
   ]
  },
  {
   "cell_type": "code",
   "execution_count": null,
   "id": "75186ec2-8ee2-40e8-a88b-549cd3a8484b",
   "metadata": {
    "scrolled": true
   },
   "outputs": [],
   "source": [
    "stdev_casualties = np.std(df['Number of Casualties'])\n",
    "\n",
    "print(\"The standard deviation of persons injured:\" , stdev_casualties)\n",
    "\n",
    "#The 2 Columns we will check for correlation are NUMBER OF PERSONS KILLED AND NUMBER OF VEHICLES INVOLVED\n",
    "column1 = df['Number of Casualties']\n",
    "COLUMN2 = df['Number of Vehicles']\n",
    "\n",
    "correlation = np.corrcoef(column1, column2)\n",
    "\n",
    "corr_coefficient = correlation[0, 1]\n",
    "\n",
    "print(\"Correlation coefficient between NUMBER OF PERSONS KILLED AND NUMBER OF VEHICLES INVOLVED:\", corr_coefficient)"
   ]
  },
  {
   "cell_type": "code",
   "execution_count": null,
   "id": "a286eeac-6b64-47a4-b143-9e76011abff7",
   "metadata": {},
   "outputs": [],
   "source": []
  }
 ],
 "metadata": {
  "kernelspec": {
   "display_name": "Python 3 (ipykernel)",
   "language": "python",
   "name": "python3"
  },
  "language_info": {
   "codemirror_mode": {
    "name": "ipython",
    "version": 3
   },
   "file_extension": ".py",
   "mimetype": "text/x-python",
   "name": "python",
   "nbconvert_exporter": "python",
   "pygments_lexer": "ipython3",
   "version": "3.11.7"
  }
 },
 "nbformat": 4,
 "nbformat_minor": 5
}
